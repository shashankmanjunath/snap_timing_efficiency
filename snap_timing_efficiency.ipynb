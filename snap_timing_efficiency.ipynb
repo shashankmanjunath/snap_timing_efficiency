{
 "cells": [
  {
   "cell_type": "markdown",
   "id": "8090dcd1-29ab-4447-969d-77bc508967f4",
   "metadata": {},
   "source": [
    "# Snap Timing Efficiency (STE): A Novel Metric to Analyze how Efficiently Teams use Snap Timing in Conjunction with Pre-Snap Motion\n",
    "\n",
    "Author: [Shashank Manjunath](https://shashankmanjunath.github.io/) \\\n",
    "Metric Track"
   ]
  },
  {
   "cell_type": "markdown",
   "id": "ef113a10-5af2-4c26-8d3b-c915dece56cc",
   "metadata": {},
   "source": [
    "## Introduction\n",
    "\n",
    "In American football, pre-snap motion is intended to either create advantageous matchups for offensive players, or to confuse the defense in the defense by putting an offensive player in an unexpected spot. These motions can be used to draw defenders away from the point of attack, to allow larger or faster receivers to get matchups on smaller defenders, or any other myriad of advantages one could exploit to gain positive yards on offense. However, at some point in a pre-snap motion, there is *maximal* confusion or advantage for the offense against the defense. Maybe this is right as a receiver is being handed off from one player to another in a zone defense concept, or maybe this is right when a defensive player realizes that their assigned receiver is in motion in a man defense concept. We want to measure how good teams are at exploiting this moment of maximal confusion using the timing of the snap."
   ]
  },
  {
   "cell_type": "markdown",
   "id": "e92c0c7b-afa2-4eef-b9f2-bf43cda7bd23",
   "metadata": {},
   "source": [
    "## Snap Timing Efficiency Metric\n",
    "\n",
    "We develop a novel metric, Snap Timing Efficiency (STE), to analyze how our well teams time their snap with their pre-snap motion on passing plays.\n",
    "[Inspired by prior work](https://fivethirtyeight.com/features/our-new-metric-shows-how-good-nfl-receivers-are-at-creating-separation/), we aim to quantify how \"confusion\" leads to offensive yards by measuring receiver separation from closest defender at the time of ball arrival to the receiver [1].\n",
    "We predict separation using an XGBoost model using only information known to the offense prior to the snap, such as play direction, route depth, defensive alignment, offensive formation, route type, route depth, and \"break\" in the route after the ball is thrown.\n",
    "We additionally use the targeted receiver's position, speed and direction as the ball is snapped. \n",
    "However, when testing this metric, we can use the player's position and direction throughout their motion, and even simulate their position and direction after their motion to predict Using this metric, we can predict a receiver's separation based on their pre-snap position."
   ]
  },
  {
   "cell_type": "markdown",
   "id": "dc73d39f-aa3b-411c-ba6b-a737cc842a76",
   "metadata": {},
   "source": [
    "| Feature Name | Feature Description | Feature Type |\n",
    "| :---: | :---: | :---: |\n",
    "| Height | Height of player in inches | Scalar |\n",
    "| Weight | Weight of player in lbs | Scalar |\n",
    "| Position | Position of player | One-Hot Encoded |\n",
    "| Route Type | Route ran by player | One-Hot Encoded |\n",
    "| Other routes ran | Routes ran by other players involved in the play | Multi-hot Encoded |\n",
    "| Break in Route | \"Break\" in route ran by specified player between ball throw and ball catch | Scalar |\n",
    "| Route Depth | Maximum depth achieved by player before ball reception | Scalar |\n",
    "| x-position | x-position of player in yards | Scalar |\n",
    "| y-position | y-position of player in yards | Scalar |\n",
    "| Speed | Speed of player in yards/second | Scalar |\n",
    "| Distance | Distance traveled from prior timepoint | Scalar |\n",
    "| Orientation | Orientation of player | Scalar in $[0, 1]$ |\n",
    "| Direction | Direction of player motion | Scalar in $[0, 1]$ |\n",
    "| Team | Team that player is on | One-Hot Encoded |\n",
    "| Play Direction | Direction of Play (left or right) | One-Hot Encoded |\n",
    "| Down | Down of play | Scalar |\n",
    "| Yards to go | Yards to go to 1st down | Scalar |\n",
    "| Percentage of game elapsed | Percentage of game which has been played | Scalar in $[0, 1]$ |\n",
    "| Pre-snap Team Score | Score pre-snap for team the player is on | Scalar |\n",
    "| Pre-snap Opposition Team Score | Score pre-snap for opposing team | Scalar |\n",
    "| Absolute Yard Line Number | Distance of line of scrimmage from end zone | Scalar |\n",
    "| Pre-snap Team Win Probability | Win Probability of team the player is on | Scalar |\n",
    "| Pre-snap Opposition Win Probability | Win Probability of Opposing Team | Scalar |\n",
    "| Pass Length | Length of pass on play | Scalar |\n",
    "| playAction | Whether play was play action or not | ${0, 1}$ |\n",
    "| Dropback Distance | Distance of Quarterback dropback | Scalar |\n",
    "| timeToThrow | Time QB took to throw the ball | Scalar |\n",
    "| timeInTackleBox | How long the QB was in the tackle box for this play | Scalar |\n",
    "| Run/Pass Option | Whether the play was an RPO play | ${0, 1}$ |\n",
    "| Number of Routes | Number of Routes run on the play | Scalar |\n",
    "| offense Formation | Formation of the Offense | One-Hot Encoded |\n",
    "| Receiver Alignment | Alignment of Receivers | One-Hot Encoded |\n",
    "| Dropback Type | Type of Dropback | One-Hot Encoded |\n",
    "| Pass Location | Location of Pass | One-Hot Encoded |\n",
    "| Pass Coverage Type | Pass Coverage Type | One-Hot Encoded |\n",
    "| Man or Zone | Defense is in Man or Zone | One-Hot Encoded |\n",
    "| Posession Team | Team on Offense | One-Hot Encoded |\n",
    "| Defensive Team | Team on Defense | One-Hot Encoded |"
   ]
  },
  {
   "cell_type": "markdown",
   "id": "6b78ce80-1955-4031-a99a-d36054984186",
   "metadata": {},
   "source": [
    "We calculate the \"break\" in the route by measuring the deviation of the player from their position predicted by kinematic equations taken when the ball is thrown to when the ball arrives at the receiver.\n",
    "\n",
    "**TODO**: Figure describing \"break\" in route"
   ]
  },
  {
   "cell_type": "markdown",
   "id": "4fd22344-6240-4f91-9c30-e94c8ca44cdd",
   "metadata": {},
   "source": [
    " ### XGBoost Model\n",
    "\n",
    "We train our XGBoost model on the targeted receiver's data on the final timepoint before the ball is snapped. Therefore, this model is a \"single-frame\" model, using only a single player's position data for a single frame, though it does contextualize the play by using information about the number of other receivers and the other routes ran by receivers. We choose hyperparameters based on grid search of viable parameters.\n",
    "\n",
    "We train our model on data from weeks 1-7 and test in on weeks 8 and 9. To quantify our model performance, we use the Mean Absolute Error (MAE) metric calculated as follows:\n",
    "\n",
    "$$\n",
    "\\text{MAE} = \\frac{1}{N} \\sum\\limits_{i=1}^N  |y_i^\\text{true} - y_i^\\text{pred}|\n",
    "$$\n",
    "\n",
    "where $N$ is the number of samples in our dataset, $y_i^\\text{true}$ is our true label and $y_i^\\text{pred}$ is our predicted label. We additionally use Coefficient of Determination ($R^2$) to measure performance, calculated as follows:\n",
    "\n",
    "$$\n",
    "R^2 = 1 - \\frac{SS_\\text{res}}{SS_\\text{tot}}\n",
    "$$\n",
    "\n",
    "where $SS_\\text{res} = \\sum_{i=1}^N (y_i^\\text{true} - y_i^\\text{pred})^2$ and $SS_\\text{tot} = \\sum_{i=1}^N (y_i^\\text{true} - \\bar y)^2$ where $\\bar y$ is the average of the true labels.\n",
    "\n",
    "We train our model on data from weeks 1 through 7 and test it on data from weeks 8 and 9. We achieve a train MAE of 1.483 and a train $R^2$ of 0.343. We achieve a test MAE of 1.691 and a test $R^2$ value of 0.207.\n",
    "\n",
    "**TODO:** Analyzing feature importances, we find that "
   ]
  },
  {
   "cell_type": "markdown",
   "id": "7e9df73f-7e53-4f79-a179-1dd9da0ddf94",
   "metadata": {},
   "source": [
    "### Metric Calculation\n",
    "\n",
    "Once we have predicted the receiver's position at all pre-snap positions, we can calculate the difference in final prediction between the \"optimal\" position, which is the maximum predicted separation.\n",
    "Since we use only single timepoints from the targeted receiver for prediction, we predict the separation at each time point using our XGBoost model.\n",
    "We can therefore analyze the difference between the \"optimal\" time (where separation was predicted to be maximized) as compared to the actualy snap time using the following equation:\n",
    "\n",
    "$$\n",
    "\\text{STE} = \\left(\\frac{s_\\text{snap}}{s_\\text{max}}\\right)\\left(\\frac{t_\\text{max} + 1}{t_\\text{snap} + 1}\\right)\n",
    "$$ \n",
    "\n",
    "where $s_\\text{max}$ is the maximum separation, $s_\\text{snap}$ is predicted separation at time of snap, $t_\\text{snap}$ is the time of snap in seconds, and $t_\\text{max}$ is the time of maximum predicted separation. This metric ranges from 0 to 1, and has several desirable properties. When our snap time is close to maximum separation time and predicted snap separation is close to optimal (maximum) snap separation, STE is close to 1. Note that $s_\\text{max} \\geq s_\\text{snap}$ and $t_\\text{snap}  \\geq t_text{max}$, so the maximum value of $STE$ is 1.\n",
    "\n",
    "On the other hand, when the maximum predicted snap separation is much higher than the predicted separation at snap time and the the snap time is far from the optimal snap time, i.e. snap time when separation is maximized, we STE is small, close to zero. However, due to practical limits in this dataset, the minimum observed value is 0.0009 by **TODO team**.\n",
    "\n",
    "We apply a 3-step windowed moving average filter (low pass filter) to remove some of the high-frequency noise in the predictions caused by small fluctuations in the data rather than true variation in the resulting separation before calculating $s_\\text{max}$, $s_\\text{snap}$, $t_\\text{max}$, and $t_\\text{min}$. Additionally, we only calculate STE if there are at least 5 valid \"frames\" between line set and play snap."
   ]
  },
  {
   "cell_type": "markdown",
   "id": "b9afc7ac-fabd-4b56-a43a-74fccdac9b30",
   "metadata": {},
   "source": [
    "## Example Play"
   ]
  },
  {
   "cell_type": "markdown",
   "id": "050416ae-6603-49a2-89f9-0dda9a2b04ab",
   "metadata": {},
   "source": [
    "## Which Teams have high STE?"
   ]
  },
  {
   "cell_type": "markdown",
   "id": "1b0d64e5-4305-43eb-9ce7-918b95c5fd22",
   "metadata": {},
   "source": [
    "## Conclusion"
   ]
  },
  {
   "cell_type": "markdown",
   "id": "701538cf-2a95-48fb-8c13-82e5f873c5ec",
   "metadata": {},
   "source": [
    "## References\n",
    "\n",
    "[1] https://fivethirtyeight.com/features/our-new-metric-shows-how-good-nfl-receivers-are-at-creating-separation/"
   ]
  },
  {
   "cell_type": "markdown",
   "id": "a526483c-8d5a-4269-bab5-feb367194b5a",
   "metadata": {},
   "source": [
    "## Appendix"
   ]
  },
  {
   "cell_type": "code",
   "execution_count": null,
   "id": "9714e64a-498a-46ed-bd5c-4f9253d304b7",
   "metadata": {},
   "outputs": [],
   "source": []
  }
 ],
 "metadata": {
  "kernelspec": {
   "display_name": "Python 3 (ipykernel)",
   "language": "python",
   "name": "python3"
  },
  "language_info": {
   "codemirror_mode": {
    "name": "ipython",
    "version": 3
   },
   "file_extension": ".py",
   "mimetype": "text/x-python",
   "name": "python",
   "nbconvert_exporter": "python",
   "pygments_lexer": "ipython3",
   "version": "3.12.7"
  }
 },
 "nbformat": 4,
 "nbformat_minor": 5
}
