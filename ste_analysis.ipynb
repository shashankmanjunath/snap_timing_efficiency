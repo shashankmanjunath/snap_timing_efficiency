{
 "cells": [
  {
   "cell_type": "code",
   "execution_count": 1,
   "id": "2079477a-bad3-41ee-98e8-2f4df9be502d",
   "metadata": {},
   "outputs": [],
   "source": [
    "import pickle\n",
    "\n",
    "from tqdm import tqdm\n",
    "\n",
    "import matplotlib.pyplot as plt\n",
    "import pandas as pd\n",
    "import numpy as np\n",
    "import h5py\n",
    "\n",
    "import processor\n",
    "import xgb_model\n",
    "import utils"
   ]
  },
  {
   "cell_type": "code",
   "execution_count": 2,
   "id": "52d7cf1b-ac17-49a2-8c46-c9b023de5f28",
   "metadata": {},
   "outputs": [],
   "source": [
    "data_dir = \"/media/data/files/nfl_bdb_2025/data\"\n",
    "test_weeks = [8, 9]\n",
    "proc = processor.SeparationDataProcessor(data_dir)"
   ]
  },
  {
   "cell_type": "code",
   "execution_count": 3,
   "id": "84058720-3885-4203-a631-49c72858db14",
   "metadata": {},
   "outputs": [],
   "source": [
    "with open(\"xgb_model_all_all_weeks.pkl\", \"rb\") as f:\n",
    "    bst = pickle.load(f)"
   ]
  },
  {
   "cell_type": "code",
   "execution_count": null,
   "id": "e5a3af05-90a2-42e1-9b1d-0d32466ee091",
   "metadata": {},
   "outputs": [
    {
     "name": "stderr",
     "output_type": "stream",
     "text": [
      " 43%|█████████████████████████████████████████████████████████████████████████▍                                                                                                  | 337/789 [01:48<03:02,  2.47it/s]"
     ]
    }
   ],
   "source": [
    "cache_fname = proc.cache_file_fname\n",
    "with h5py.File(cache_fname, \"r\") as all_weeks_f:\n",
    "    X = []\n",
    "    y = []\n",
    "    for week_num in test_weeks:\n",
    "        f = all_weeks_f[f\"week_{week_num}\"]\n",
    "        n = f[\"seq_arr\"].shape[0]\n",
    "        for idx in tqdm(range(n)):\n",
    "            y.append(f[\"separation_arr\"][idx])\n",
    "            play_players_df = pd.DataFrame(\n",
    "                f[\"play_players_arr\"][idx, :, :],\n",
    "                columns=xgb_model.decode(f[\"play_players_cols\"]),\n",
    "            )\n",
    "            play_players_df[\"nflId\"] = play_players_df[\"nflId\"].astype(int)\n",
    "            play_overall_df = pd.DataFrame(\n",
    "                f[\"play_overall_arr\"][idx, :, :],\n",
    "                columns=xgb_model.decode(f[\"play_overall_cols\"]),\n",
    "            )\n",
    "            play_overall_df[\"nflId\"] = play_overall_df[\"nflId\"].astype(int)\n",
    "            meta_df = pd.DataFrame(\n",
    "                f[\"meta_arr\"][idx, :].reshape(1, -1),\n",
    "                columns=xgb_model.decode(f[\"meta_cols\"]),\n",
    "            )\n",
    "            \n",
    "            pos_cols = xgb_model.get_position_cols()\n",
    "        \n",
    "            seq_mask = f[\"seq_mask\"][idx, :, 0, 0].astype(int)\n",
    "            idxs = np.where(seq_mask)[0]\n",
    "            seq_len = idxs.max() + 1\n",
    "            pos_arr = f[\"seq_arr\"][idx, :seq_len, :, :]\n",
    "            pos_df = []\n",
    "            for seq_idx in range(pos_arr.shape[0]):\n",
    "                seq_df = pd.DataFrame(pos_arr[seq_idx, :, :], columns=xgb_model.decode(f[\"seq_cols\"]))\n",
    "                seq_df = seq_df.drop(seq_df[seq_df[\"club_football\"] == 1.0].index)\n",
    "                seq_df[\"nflId\"] = seq_df[\"nflId\"].astype(int)\n",
    "                \n",
    "                seq_df = seq_df.merge(play_players_df, how=\"outer\", on=\"nflId\")\n",
    "                seq_df = seq_df.merge(play_overall_df, how=\"outer\", on=[\"gameId\", \"playId\", \"nflId\"])\n",
    "                \n",
    "                seq_df[\"position_ord\"] = np.argmax(seq_df[pos_cols].to_numpy(), axis=1)\n",
    "                seq_df = seq_df.sort_values(by=\"position_ord\")\n",
    "                seq_df = seq_df[seq_df[\"wasTargettedReceiver\"] == 1.0]\n",
    "                seq_df = seq_df.merge(meta_df, how=\"outer\", on=[\"gameId\", \"playId\"])\n",
    "\n",
    "                pos_df.append(seq_df)\n",
    "            X.append(pd.concat(pos_df, axis=0))"
   ]
  },
  {
   "cell_type": "code",
   "execution_count": null,
   "id": "689fdbc2-e68e-4fd7-b96a-e0520c740365",
   "metadata": {},
   "outputs": [],
   "source": [
    "in_motion_idxs = np.where([x[\"inMotionAtBallSnap\"].sum() > 0 for x in X])\n",
    "shift_idxs = np.where([x[\"shiftSinceLineset\"].sum() > 0 for x in X])\n",
    "motion_idxs = np.where([x[\"motionSinceLineset\"].sum() > 0 for x in X])"
   ]
  },
  {
   "cell_type": "code",
   "execution_count": null,
   "id": "a9a43aa0-f490-4a95-9db6-f9cdbac3997f",
   "metadata": {},
   "outputs": [],
   "source": [
    "pred_arr = []\n",
    "for idx in tqdm(range(len(X))):\n",
    "    y_true = y[idx]\n",
    "    seq_df = X[idx][utils.get_target_feature_cols()]\n",
    "    pred_sep = bst.predict(seq_df)\n",
    "    pred_arr.append(pred_sep)"
   ]
  },
  {
   "cell_type": "code",
   "execution_count": null,
   "id": "1f8b1e09-e7b1-4a73-b26a-e2cd6a9c4675",
   "metadata": {},
   "outputs": [],
   "source": [
    "plt.figure()\n",
    "plt.plot(pred_arr[1451])\n",
    "plt.show()"
   ]
  },
  {
   "cell_type": "code",
   "execution_count": null,
   "id": "b0acdeec-3d93-4406-a929-66a2ac0ef1da",
   "metadata": {},
   "outputs": [],
   "source": [
    "motion_idxs"
   ]
  },
  {
   "cell_type": "code",
   "execution_count": null,
   "id": "096cbad5-7ade-4669-829f-3bc811de879c",
   "metadata": {},
   "outputs": [],
   "source": [
    "plt.figure()\n",
    "plt.plot(pred_arr[1029])\n",
    "plt.show()"
   ]
  },
  {
   "cell_type": "code",
   "execution_count": null,
   "id": "04a5cfb8-37a7-4b44-9201-f9c5fd40779f",
   "metadata": {},
   "outputs": [],
   "source": []
  }
 ],
 "metadata": {
  "kernelspec": {
   "display_name": "Python 3 (ipykernel)",
   "language": "python",
   "name": "python3"
  },
  "language_info": {
   "codemirror_mode": {
    "name": "ipython",
    "version": 3
   },
   "file_extension": ".py",
   "mimetype": "text/x-python",
   "name": "python",
   "nbconvert_exporter": "python",
   "pygments_lexer": "ipython3",
   "version": "3.12.7"
  }
 },
 "nbformat": 4,
 "nbformat_minor": 5
}
