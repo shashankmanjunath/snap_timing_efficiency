{
 "cells": [
  {
   "cell_type": "code",
   "execution_count": 1,
   "id": "2079477a-bad3-41ee-98e8-2f4df9be502d",
   "metadata": {},
   "outputs": [],
   "source": [
    "import pickle\n",
    "\n",
    "from tqdm import tqdm\n",
    "\n",
    "import matplotlib.pyplot as plt\n",
    "import pandas as pd\n",
    "import numpy as np\n",
    "import h5py\n",
    "\n",
    "import processor\n",
    "import xgb_model\n",
    "import utils"
   ]
  },
  {
   "cell_type": "code",
   "execution_count": 2,
   "id": "52d7cf1b-ac17-49a2-8c46-c9b023de5f28",
   "metadata": {},
   "outputs": [],
   "source": [
    "data_dir = \"/media/data/files/nfl_bdb_2025/data\"\n",
    "test_weeks = [1]\n",
    "proc = processor.SeparationDataProcessor(data_dir)"
   ]
  },
  {
   "cell_type": "code",
   "execution_count": 4,
   "id": "84058720-3885-4203-a631-49c72858db14",
   "metadata": {},
   "outputs": [],
   "source": [
    "with open(\"xgb_model_all_all_weeks.pkl\", \"rb\") as f:\n",
    "    bst = pickle.load(f)"
   ]
  },
  {
   "cell_type": "code",
   "execution_count": 5,
   "id": "e5a3af05-90a2-42e1-9b1d-0d32466ee091",
   "metadata": {},
   "outputs": [
    {
     "name": "stderr",
     "output_type": "stream",
     "text": [
      "100%|████████████████████████████████████████████████████████████████████████████████████████████████████████████████████████████████████████████████████████████████████████████████| 5/5 [00:01<00:00,  4.74it/s]\n"
     ]
    }
   ],
   "source": [
    "cache_fname = proc.cache_file_fname\n",
    "with h5py.File(cache_fname, \"r\") as all_weeks_f:\n",
    "    X = []\n",
    "    y = []\n",
    "    play_ids = []\n",
    "    for week_num in test_weeks:\n",
    "        f = all_weeks_f[f\"week_{week_num}\"]\n",
    "        n = f[\"seq_arr\"].shape[0]\n",
    "        for idx in tqdm(range(n)):\n",
    "            y.append(f[\"separation_arr\"][idx])\n",
    "            play_players_df = pd.DataFrame(\n",
    "                f[\"play_players_arr\"][idx, :, :],\n",
    "                columns=xgb_model.decode(f[\"play_players_cols\"]),\n",
    "            )\n",
    "            play_players_df[\"nflId\"] = play_players_df[\"nflId\"].astype(int)\n",
    "            play_overall_df = pd.DataFrame(\n",
    "                f[\"play_overall_arr\"][idx, :, :],\n",
    "                columns=xgb_model.decode(f[\"play_overall_cols\"]),\n",
    "            )\n",
    "            play_overall_df[\"nflId\"] = play_overall_df[\"nflId\"].astype(int)\n",
    "            meta_df = pd.DataFrame(\n",
    "                f[\"meta_arr\"][idx, :].reshape(1, -1),\n",
    "                columns=xgb_model.decode(f[\"meta_cols\"]),\n",
    "            )\n",
    "            play_ids.append(play_overall_df[[\"gameId\", \"playId\"]].iloc[0].astype(int))\n",
    "            \n",
    "            pos_cols = xgb_model.get_position_cols()\n",
    "        \n",
    "            seq_mask = f[\"seq_mask\"][idx, :, 0, 0].astype(int)\n",
    "            idxs = np.where(seq_mask)[0]\n",
    "            seq_len = idxs.max() + 1\n",
    "            pos_arr = f[\"seq_arr\"][idx, :seq_len, :, :]\n",
    "            pos_df = []\n",
    "            for seq_idx in range(pos_arr.shape[0]):\n",
    "                seq_df = pd.DataFrame(pos_arr[seq_idx, :, :], columns=xgb_model.decode(f[\"seq_cols\"]))\n",
    "                seq_df = seq_df.drop(seq_df[seq_df[\"club_football\"] == 1.0].index)\n",
    "                seq_df[\"nflId\"] = seq_df[\"nflId\"].astype(int)\n",
    "                \n",
    "                seq_df = seq_df.merge(play_players_df, how=\"outer\", on=\"nflId\")\n",
    "                seq_df = seq_df.merge(play_overall_df, how=\"outer\", on=[\"gameId\", \"playId\", \"nflId\"])\n",
    "                \n",
    "                seq_df[\"position_ord\"] = np.argmax(seq_df[pos_cols].to_numpy(), axis=1)\n",
    "                seq_df = seq_df.sort_values(by=\"position_ord\")\n",
    "                seq_df = seq_df[seq_df[\"wasTargettedReceiver\"] == 1.0]\n",
    "                seq_df = seq_df.merge(meta_df, how=\"outer\", on=[\"gameId\", \"playId\"])\n",
    "\n",
    "                pos_df.append(seq_df)\n",
    "            X.append(pd.concat(pos_df, axis=0))\n",
    "\n",
    "            if idx > 25:\n",
    "                break\n",
    "        break\n",
    "play_ids = pd.concat(play_ids, axis=1).T"
   ]
  },
  {
   "cell_type": "code",
   "execution_count": 7,
   "id": "689fdbc2-e68e-4fd7-b96a-e0520c740365",
   "metadata": {},
   "outputs": [],
   "source": [
    "in_motion_idxs = np.where([x[\"inMotionAtBallSnap\"].sum() > 0 for x in X])\n",
    "shift_idxs = np.where([x[\"shiftSinceLineset\"].sum() > 0 for x in X])\n",
    "motion_idxs = np.where([x[\"motionSinceLineset\"].sum() > 0 for x in X])"
   ]
  },
  {
   "cell_type": "code",
   "execution_count": 8,
   "id": "a9a43aa0-f490-4a95-9db6-f9cdbac3997f",
   "metadata": {},
   "outputs": [
    {
     "name": "stderr",
     "output_type": "stream",
     "text": [
      "100%|████████████████████████████████████████████████████████████████████████████████████████████████████████████████████████████████████████████████████████████████████████████████| 5/5 [00:00<00:00, 28.21it/s]\n"
     ]
    }
   ],
   "source": [
    "pred_arr = []\n",
    "for idx in tqdm(range(len(X))):\n",
    "    y_true = y[idx]\n",
    "    seq_df = X[idx][utils.get_target_feature_cols()]\n",
    "    pred_sep = bst.predict(seq_df)\n",
    "    pred_arr.append(pred_sep)"
   ]
  },
  {
   "cell_type": "code",
   "execution_count": 9,
   "id": "cc6f4415-ae9b-41ac-9197-5c1590ab019f",
   "metadata": {},
   "outputs": [
    {
     "data": {
      "text/plain": [
       "(array([], dtype=int64),)"
      ]
     },
     "execution_count": 9,
     "metadata": {},
     "output_type": "execute_result"
    }
   ],
   "source": [
    "in_motion_idxs"
   ]
  },
  {
   "cell_type": "code",
   "execution_count": 10,
   "id": "1f8b1e09-e7b1-4a73-b26a-e2cd6a9c4675",
   "metadata": {},
   "outputs": [
    {
     "ename": "IndexError",
     "evalue": "list index out of range",
     "output_type": "error",
     "traceback": [
      "\u001b[0;31m---------------------------------------------------------------------------\u001b[0m",
      "\u001b[0;31mIndexError\u001b[0m                                Traceback (most recent call last)",
      "Cell \u001b[0;32mIn[10], line 3\u001b[0m\n\u001b[1;32m      1\u001b[0m idx \u001b[38;5;241m=\u001b[39m \u001b[38;5;241m24\u001b[39m\n\u001b[0;32m----> 3\u001b[0m \u001b[38;5;28mprint\u001b[39m(\u001b[38;5;124mf\u001b[39m\u001b[38;5;124m\"\u001b[39m\u001b[38;5;124mTrue Final Separation: \u001b[39m\u001b[38;5;132;01m{\u001b[39;00m\u001b[43my\u001b[49m\u001b[43m[\u001b[49m\u001b[43midx\u001b[49m\u001b[43m]\u001b[49m\u001b[38;5;132;01m}\u001b[39;00m\u001b[38;5;124m\"\u001b[39m)\n\u001b[1;32m      4\u001b[0m pred_lp \u001b[38;5;241m=\u001b[39m np\u001b[38;5;241m.\u001b[39mconvolve(pred_arr[idx], np\u001b[38;5;241m.\u001b[39mones(\u001b[38;5;241m3\u001b[39m)\u001b[38;5;241m/\u001b[39m\u001b[38;5;241m3\u001b[39m, mode\u001b[38;5;241m=\u001b[39m\u001b[38;5;124m'\u001b[39m\u001b[38;5;124mvalid\u001b[39m\u001b[38;5;124m'\u001b[39m)\n\u001b[1;32m      6\u001b[0m plt\u001b[38;5;241m.\u001b[39mfigure()\n",
      "\u001b[0;31mIndexError\u001b[0m: list index out of range"
     ]
    }
   ],
   "source": [
    "idx = 24\n",
    "\n",
    "print(f\"True Final Separation: {y[idx]}\")\n",
    "pred_lp = np.convolve(pred_arr[idx], np.ones(3)/3, mode='valid')\n",
    "\n",
    "plt.figure()\n",
    "plt.plot(pred_arr[idx])\n",
    "plt.plot(pred_lp)\n",
    "plt.show()"
   ]
  },
  {
   "cell_type": "code",
   "execution_count": 11,
   "id": "7c1d0e88-0d93-4be6-90ff-22f1e23aca7d",
   "metadata": {},
   "outputs": [],
   "source": [
    "def ste(sep_arr):\n",
    "    if len(pred_sep) < 5:\n",
    "        return -1        \n",
    "        \n",
    "    n_steps = 3\n",
    "    pred_lp = np.convolve(pred_sep, np.ones(n_steps)/n_steps, mode='valid')\n",
    "\n",
    "    t_max = np.argmax(pred_lp)\n",
    "    s_max = pred_lp[t_max]\n",
    "\n",
    "    t_snap = len(pred_lp) - 1\n",
    "    s_snap = pred_lp[-1]\n",
    "\n",
    "    ste_val = (s_snap / s_max) * ((t_max + 1) / (t_snap + 1))\n",
    "\n",
    "    return ste_val"
   ]
  },
  {
   "cell_type": "code",
   "execution_count": 12,
   "id": "b0acdeec-3d93-4406-a929-66a2ac0ef1da",
   "metadata": {},
   "outputs": [],
   "source": [
    "ste_arr = []\n",
    "\n",
    "for idx, pred_sep in enumerate(pred_arr):\n",
    "    if len(pred_sep) < 5:\n",
    "        ste_val = -1\n",
    "        continue\n",
    "        \n",
    "    n_steps = 3\n",
    "    pred_lp = np.convolve(pred_sep, np.ones(n_steps)/n_steps, mode='valid')\n",
    "\n",
    "    t_max = np.argmax(pred_lp)\n",
    "    s_max = pred_lp[t_max]\n",
    "\n",
    "    t_snap = len(pred_lp) - 1\n",
    "    s_snap = pred_lp[-1]\n",
    "\n",
    "    ste_val = (s_snap / s_max) * ((t_max + 1) / (t_snap + 1))\n",
    "\n",
    "    ste_arr.append(ste_val)"
   ]
  },
  {
   "cell_type": "code",
   "execution_count": 13,
   "id": "096cbad5-7ade-4669-829f-3bc811de879c",
   "metadata": {},
   "outputs": [
    {
     "ename": "KeyError",
     "evalue": "np.int64(3)",
     "output_type": "error",
     "traceback": [
      "\u001b[0;31m---------------------------------------------------------------------------\u001b[0m",
      "\u001b[0;31mKeyError\u001b[0m                                  Traceback (most recent call last)",
      "File \u001b[0;32m/media/data/files/mambaforge/envs/nfl_bdb_2025/lib/python3.12/site-packages/pandas/core/indexes/base.py:3805\u001b[0m, in \u001b[0;36mIndex.get_loc\u001b[0;34m(self, key)\u001b[0m\n\u001b[1;32m   3804\u001b[0m \u001b[38;5;28;01mtry\u001b[39;00m:\n\u001b[0;32m-> 3805\u001b[0m     \u001b[38;5;28;01mreturn\u001b[39;00m \u001b[38;5;28;43mself\u001b[39;49m\u001b[38;5;241;43m.\u001b[39;49m\u001b[43m_engine\u001b[49m\u001b[38;5;241;43m.\u001b[39;49m\u001b[43mget_loc\u001b[49m\u001b[43m(\u001b[49m\u001b[43mcasted_key\u001b[49m\u001b[43m)\u001b[49m\n\u001b[1;32m   3806\u001b[0m \u001b[38;5;28;01mexcept\u001b[39;00m \u001b[38;5;167;01mKeyError\u001b[39;00m \u001b[38;5;28;01mas\u001b[39;00m err:\n",
      "File \u001b[0;32mindex.pyx:167\u001b[0m, in \u001b[0;36mpandas._libs.index.IndexEngine.get_loc\u001b[0;34m()\u001b[0m\n",
      "File \u001b[0;32mindex.pyx:196\u001b[0m, in \u001b[0;36mpandas._libs.index.IndexEngine.get_loc\u001b[0;34m()\u001b[0m\n",
      "File \u001b[0;32mpandas/_libs/hashtable_class_helper.pxi:7081\u001b[0m, in \u001b[0;36mpandas._libs.hashtable.PyObjectHashTable.get_item\u001b[0;34m()\u001b[0m\n",
      "File \u001b[0;32mpandas/_libs/hashtable_class_helper.pxi:7089\u001b[0m, in \u001b[0;36mpandas._libs.hashtable.PyObjectHashTable.get_item\u001b[0;34m()\u001b[0m\n",
      "\u001b[0;31mKeyError\u001b[0m: np.int64(3)",
      "\nThe above exception was the direct cause of the following exception:\n",
      "\u001b[0;31mKeyError\u001b[0m                                  Traceback (most recent call last)",
      "Cell \u001b[0;32mIn[13], line 2\u001b[0m\n\u001b[1;32m      1\u001b[0m min_idx \u001b[38;5;241m=\u001b[39m np\u001b[38;5;241m.\u001b[39margmin(ste_arr)\n\u001b[0;32m----> 2\u001b[0m \u001b[38;5;28mprint\u001b[39m(\u001b[43mplay_ids\u001b[49m\u001b[43m[\u001b[49m\u001b[43mmin_idx\u001b[49m\u001b[43m]\u001b[49m)\n\u001b[1;32m      3\u001b[0m plt\u001b[38;5;241m.\u001b[39mfigure()\n\u001b[1;32m      4\u001b[0m plt\u001b[38;5;241m.\u001b[39mplot(pred_arr[min_idx])\n",
      "File \u001b[0;32m/media/data/files/mambaforge/envs/nfl_bdb_2025/lib/python3.12/site-packages/pandas/core/frame.py:4102\u001b[0m, in \u001b[0;36mDataFrame.__getitem__\u001b[0;34m(self, key)\u001b[0m\n\u001b[1;32m   4100\u001b[0m \u001b[38;5;28;01mif\u001b[39;00m \u001b[38;5;28mself\u001b[39m\u001b[38;5;241m.\u001b[39mcolumns\u001b[38;5;241m.\u001b[39mnlevels \u001b[38;5;241m>\u001b[39m \u001b[38;5;241m1\u001b[39m:\n\u001b[1;32m   4101\u001b[0m     \u001b[38;5;28;01mreturn\u001b[39;00m \u001b[38;5;28mself\u001b[39m\u001b[38;5;241m.\u001b[39m_getitem_multilevel(key)\n\u001b[0;32m-> 4102\u001b[0m indexer \u001b[38;5;241m=\u001b[39m \u001b[38;5;28;43mself\u001b[39;49m\u001b[38;5;241;43m.\u001b[39;49m\u001b[43mcolumns\u001b[49m\u001b[38;5;241;43m.\u001b[39;49m\u001b[43mget_loc\u001b[49m\u001b[43m(\u001b[49m\u001b[43mkey\u001b[49m\u001b[43m)\u001b[49m\n\u001b[1;32m   4103\u001b[0m \u001b[38;5;28;01mif\u001b[39;00m is_integer(indexer):\n\u001b[1;32m   4104\u001b[0m     indexer \u001b[38;5;241m=\u001b[39m [indexer]\n",
      "File \u001b[0;32m/media/data/files/mambaforge/envs/nfl_bdb_2025/lib/python3.12/site-packages/pandas/core/indexes/base.py:3812\u001b[0m, in \u001b[0;36mIndex.get_loc\u001b[0;34m(self, key)\u001b[0m\n\u001b[1;32m   3807\u001b[0m     \u001b[38;5;28;01mif\u001b[39;00m \u001b[38;5;28misinstance\u001b[39m(casted_key, \u001b[38;5;28mslice\u001b[39m) \u001b[38;5;129;01mor\u001b[39;00m (\n\u001b[1;32m   3808\u001b[0m         \u001b[38;5;28misinstance\u001b[39m(casted_key, abc\u001b[38;5;241m.\u001b[39mIterable)\n\u001b[1;32m   3809\u001b[0m         \u001b[38;5;129;01mand\u001b[39;00m \u001b[38;5;28many\u001b[39m(\u001b[38;5;28misinstance\u001b[39m(x, \u001b[38;5;28mslice\u001b[39m) \u001b[38;5;28;01mfor\u001b[39;00m x \u001b[38;5;129;01min\u001b[39;00m casted_key)\n\u001b[1;32m   3810\u001b[0m     ):\n\u001b[1;32m   3811\u001b[0m         \u001b[38;5;28;01mraise\u001b[39;00m InvalidIndexError(key)\n\u001b[0;32m-> 3812\u001b[0m     \u001b[38;5;28;01mraise\u001b[39;00m \u001b[38;5;167;01mKeyError\u001b[39;00m(key) \u001b[38;5;28;01mfrom\u001b[39;00m \u001b[38;5;21;01merr\u001b[39;00m\n\u001b[1;32m   3813\u001b[0m \u001b[38;5;28;01mexcept\u001b[39;00m \u001b[38;5;167;01mTypeError\u001b[39;00m:\n\u001b[1;32m   3814\u001b[0m     \u001b[38;5;66;03m# If we have a listlike key, _check_indexing_error will raise\u001b[39;00m\n\u001b[1;32m   3815\u001b[0m     \u001b[38;5;66;03m#  InvalidIndexError. Otherwise we fall through and re-raise\u001b[39;00m\n\u001b[1;32m   3816\u001b[0m     \u001b[38;5;66;03m#  the TypeError.\u001b[39;00m\n\u001b[1;32m   3817\u001b[0m     \u001b[38;5;28mself\u001b[39m\u001b[38;5;241m.\u001b[39m_check_indexing_error(key)\n",
      "\u001b[0;31mKeyError\u001b[0m: np.int64(3)"
     ]
    }
   ],
   "source": [
    "min_idx = np.argmin(ste_arr)\n",
    "print(play_ids[min_idx])\n",
    "plt.figure()\n",
    "plt.plot(pred_arr[min_idx])\n",
    "plt.show()"
   ]
  },
  {
   "cell_type": "code",
   "execution_count": 14,
   "id": "c049bf1f-642a-4d98-a9d6-bd55791827eb",
   "metadata": {},
   "outputs": [],
   "source": [
    "with h5py.File(cache_fname, \"r\") as all_weeks_f:\n",
    "    for week_num in test_weeks:\n",
    "        f = all_weeks_f[f\"week_{week_num}\"]\n",
    "        meta_df = pd.DataFrame(\n",
    "            f[\"meta_arr\"],\n",
    "            columns=xgb_model.decode(f[\"meta_cols\"]),\n",
    "        )\n",
    "        break"
   ]
  },
  {
   "cell_type": "code",
   "execution_count": 15,
   "id": "f993f494-4ed1-4c85-9fc2-162c2c3840cc",
   "metadata": {},
   "outputs": [
    {
     "data": {
      "text/html": [
       "<div>\n",
       "<style scoped>\n",
       "    .dataframe tbody tr th:only-of-type {\n",
       "        vertical-align: middle;\n",
       "    }\n",
       "\n",
       "    .dataframe tbody tr th {\n",
       "        vertical-align: top;\n",
       "    }\n",
       "\n",
       "    .dataframe thead th {\n",
       "        text-align: right;\n",
       "    }\n",
       "</style>\n",
       "<table border=\"1\" class=\"dataframe\">\n",
       "  <thead>\n",
       "    <tr style=\"text-align: right;\">\n",
       "      <th></th>\n",
       "      <th>gameId</th>\n",
       "      <th>playId</th>\n",
       "    </tr>\n",
       "  </thead>\n",
       "  <tbody>\n",
       "    <tr>\n",
       "      <th>0</th>\n",
       "      <td>2022091136</td>\n",
       "      <td>923</td>\n",
       "    </tr>\n",
       "    <tr>\n",
       "      <th>0</th>\n",
       "      <td>2022091136</td>\n",
       "      <td>3544</td>\n",
       "    </tr>\n",
       "    <tr>\n",
       "      <th>0</th>\n",
       "      <td>2022091136</td>\n",
       "      <td>2502</td>\n",
       "    </tr>\n",
       "    <tr>\n",
       "      <th>0</th>\n",
       "      <td>2022091136</td>\n",
       "      <td>1041</td>\n",
       "    </tr>\n",
       "    <tr>\n",
       "      <th>0</th>\n",
       "      <td>2022091136</td>\n",
       "      <td>1772</td>\n",
       "    </tr>\n",
       "  </tbody>\n",
       "</table>\n",
       "</div>"
      ],
      "text/plain": [
       "       gameId  playId\n",
       "0  2022091136     923\n",
       "0  2022091136    3544\n",
       "0  2022091136    2502\n",
       "0  2022091136    1041\n",
       "0  2022091136    1772"
      ]
     },
     "execution_count": 15,
     "metadata": {},
     "output_type": "execute_result"
    }
   ],
   "source": [
    "play_ids"
   ]
  },
  {
   "cell_type": "code",
   "execution_count": 19,
   "id": "435b4844-fcb8-4c6a-9071-9c75f61a761a",
   "metadata": {},
   "outputs": [
    {
     "name": "stdout",
     "output_type": "stream",
     "text": [
      "Loading data from disk.... Data Loaded! Load time: 0.670 seconds\n"
     ]
    }
   ],
   "source": [
    "data = utils.load_data(data_dir)\n",
    "play_data = data[\"play\"]"
   ]
  },
  {
   "cell_type": "code",
   "execution_count": null,
   "id": "94467b0b-0689-40e5-8f5c-7e549832387c",
   "metadata": {},
   "outputs": [],
   "source": [
    "play_ids.iloc[0][\"gameId\"].astype(int).item()"
   ]
  },
  {
   "cell_type": "code",
   "execution_count": null,
   "id": "bd207c3a-3086-4674-8bc3-3098b69faf07",
   "metadata": {},
   "outputs": [],
   "source": [
    "play_ids.iloc[0].astype(int)[\"gameId\"].item()"
   ]
  },
  {
   "cell_type": "code",
   "execution_count": null,
   "id": "4f57066c-1e36-45da-a340-18c26b98eaf0",
   "metadata": {},
   "outputs": [],
   "source": [
    "play_ids.iloc[0][\"gameId\"]"
   ]
  },
  {
   "cell_type": "code",
   "execution_count": 22,
   "id": "39c1cc48-c104-4ecc-8131-9ec0d73c574f",
   "metadata": {},
   "outputs": [
    {
     "data": {
      "text/plain": [
       "0        2022102302\n",
       "1        2022091809\n",
       "2        2022103004\n",
       "3        2022110610\n",
       "4        2022102700\n",
       "            ...    \n",
       "16119    2022110604\n",
       "16120    2022103005\n",
       "16121    2022092502\n",
       "16122    2022091809\n",
       "16123    2022101602\n",
       "Name: gameId, Length: 16124, dtype: int64"
      ]
     },
     "execution_count": 22,
     "metadata": {},
     "output_type": "execute_result"
    }
   ],
   "source": [
    "play_data[\"gameId\"]"
   ]
  },
  {
   "cell_type": "code",
   "execution_count": null,
   "id": "f30dab58-a35b-4a74-b762-a906abe97ffe",
   "metadata": {},
   "outputs": [],
   "source": [
    "pd.concat([x.iloc[0].astype(int) for x in play_ids], axis=1).T"
   ]
  },
  {
   "cell_type": "code",
   "execution_count": null,
   "id": "a7473e8e-e448-4802-96aa-eeefdaf3baf9",
   "metadata": {},
   "outputs": [],
   "source": [
    "(play_data[\"gameId\"] == 2022110592).sum()"
   ]
  },
  {
   "cell_type": "code",
   "execution_count": null,
   "id": "04a5cfb8-37a7-4b44-9201-f9c5fd40779f",
   "metadata": {},
   "outputs": [],
   "source": [
    "max_ste = np.argmax(ste_arr)\n",
    "plt.figure()\n",
    "plt.plot(pred_arr[max_ste])\n",
    "plt.show()"
   ]
  },
  {
   "cell_type": "code",
   "execution_count": null,
   "id": "81b79261-f327-4b6f-9912-a48d7bfaeca2",
   "metadata": {},
   "outputs": [],
   "source": []
  }
 ],
 "metadata": {
  "kernelspec": {
   "display_name": "Python 3 (ipykernel)",
   "language": "python",
   "name": "python3"
  },
  "language_info": {
   "codemirror_mode": {
    "name": "ipython",
    "version": 3
   },
   "file_extension": ".py",
   "mimetype": "text/x-python",
   "name": "python",
   "nbconvert_exporter": "python",
   "pygments_lexer": "ipython3",
   "version": "3.12.7"
  }
 },
 "nbformat": 4,
 "nbformat_minor": 5
}
